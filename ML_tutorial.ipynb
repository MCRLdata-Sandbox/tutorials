{
  "cells": [
    {
      "cell_type": "markdown",
      "metadata": {
        "id": "view-in-github",
        "colab_type": "text"
      },
      "source": [
        "<a href=\"https://colab.research.google.com/github/MCRLdata-Sandbox/tutorials/blob/main/ML_tutorial.ipynb\" target=\"_parent\"><img src=\"https://colab.research.google.com/assets/colab-badge.svg\" alt=\"Open In Colab\"/></a>"
      ]
    },
    {
      "cell_type": "markdown",
      "source": [
        "## 1. Welcome!\n",
        "\n",
        "This tutorial is designed to provide an introduction to machine learning (ML) for users with any level of experience with coding. All code is written in R, but you do NOT need to know or learn R to complete this tutorial!\n",
        "\n",
        "ML is a subset of artificial intelligence (AI) where the computer can learn and improve its performance of a task without the user's input. It can be very useful for a wide variety of data-based tasks, and there are many different algorithms that perform many different types of tasks.\n",
        "\n",
        "For this tutorial we will focus on one ML algorithm: Random Forests (RF). RF is a very useful algorithm we can use to predict relationships between different variables. RF is relativel robust to many of the factors that can cause problems in normal statistical models (things like co-correlation of predictors, non-normal distributions, and non-linear relationships).\n",
        "\n",
        "\n",
        "\n",
        "## 2. Setup\n",
        "\n",
        "Before we start anything, we need to set up our coding environment. Because getting a coding language like R or Python running on your computer is often an involved process, this tutorial takes advantage of Google Colab, which pre-loads all of the software you need. You do, however, need to install packages and set up your environment. We'll do this by running the code chunk below (press the play button in the upper-left).\n",
        "\n",
        "**IMPORTANT: from here on, when you see a code chunk with a play button, you can press play! Please do not skip code chunks as the code below generally depends on the code above**\n",
        "\n",
        "This code chunk will take a couple minutes (~3 minutes on my machine) because R needs to install and load several libraries. All other code chunks should be much faster!\n"
      ],
      "metadata": {
        "id": "kktjO6FgBsIl"
      }
    },
    {
      "cell_type": "code",
      "execution_count": 1,
      "metadata": {
        "colab": {
          "base_uri": "https://localhost:8080/"
        },
        "id": "dbMxQOfgJLM1",
        "outputId": "cee11446-c12d-4d4f-d535-1c56ec5a9b0e"
      },
      "outputs": [
        {
          "output_type": "stream",
          "name": "stderr",
          "text": [
            "Installing package into ‘/usr/local/lib/R/site-library’\n",
            "(as ‘lib’ is unspecified)\n",
            "\n",
            "Installing packages into ‘/usr/local/lib/R/site-library’\n",
            "(as ‘lib’ is unspecified)\n",
            "\n",
            "also installing the dependencies ‘listenv’, ‘parallelly’, ‘future’, ‘globals’, ‘warp’, ‘furrr’, ‘slider’, ‘RcppEigen’\n",
            "\n",
            "\n",
            "── \u001b[1mAttaching core tidyverse packages\u001b[22m ──────────────────────── tidyverse 2.0.0 ──\n",
            "\u001b[32m✔\u001b[39m \u001b[34mdplyr    \u001b[39m 1.1.4     \u001b[32m✔\u001b[39m \u001b[34mreadr    \u001b[39m 2.1.5\n",
            "\u001b[32m✔\u001b[39m \u001b[34mforcats  \u001b[39m 1.0.0     \u001b[32m✔\u001b[39m \u001b[34mstringr  \u001b[39m 1.5.1\n",
            "\u001b[32m✔\u001b[39m \u001b[34mggplot2  \u001b[39m 3.5.2     \u001b[32m✔\u001b[39m \u001b[34mtibble   \u001b[39m 3.3.0\n",
            "\u001b[32m✔\u001b[39m \u001b[34mlubridate\u001b[39m 1.9.4     \u001b[32m✔\u001b[39m \u001b[34mtidyr    \u001b[39m 1.3.1\n",
            "\u001b[32m✔\u001b[39m \u001b[34mpurrr    \u001b[39m 1.1.0     \n",
            "── \u001b[1mConflicts\u001b[22m ────────────────────────────────────────── tidyverse_conflicts() ──\n",
            "\u001b[31m✖\u001b[39m \u001b[34mdplyr\u001b[39m::\u001b[32mfilter()\u001b[39m masks \u001b[34mstats\u001b[39m::filter()\n",
            "\u001b[31m✖\u001b[39m \u001b[34mdplyr\u001b[39m::\u001b[32mlag()\u001b[39m    masks \u001b[34mstats\u001b[39m::lag()\n",
            "\u001b[36mℹ\u001b[39m Use the conflicted package (\u001b[3m\u001b[34m<http://conflicted.r-lib.org/>\u001b[39m\u001b[23m) to force all conflicts to become errors\n",
            "\n",
            "Attaching package: ‘cowplot’\n",
            "\n",
            "\n",
            "The following object is masked from ‘package:lubridate’:\n",
            "\n",
            "    stamp\n",
            "\n",
            "\n"
          ]
        },
        {
          "output_type": "stream",
          "name": "stdout",
          "text": [
            "install and load packages: 196.853 sec elapsed\n"
          ]
        }
      ],
      "source": [
        "## I want to understand how long things take\n",
        "install.packages('tictoc')\n",
        "library(tictoc)\n",
        "\n",
        "## Install and load required packages\n",
        "tic(\"install and load packages\")\n",
        "install.packages(c('tidyverse', 'rsample', 'cowplot', 'ranger'))\n",
        "\n",
        "library(tidyverse)\n",
        "library(rsample)\n",
        "library(cowplot)\n",
        "library(ranger)\n",
        "toc()"
      ]
    },
    {
      "cell_type": "markdown",
      "source": [
        "While that's loading, let's start with the question we want our model to answer - **Can we use basic hydrology and water quality data to predict aquatic carbon dioxide concentrations in Sequim Bay?**\n",
        "\n",
        "This is a  common type of question to ask ML to solve and while it seems simple, finding the answer can be a complicated process. This tutorial leverages the awesome datasets being collected off the MCRL dock by the [MCRLdata](https://mcrldata.pnnl.gov/) pipeline. We will use the partial pressure of carbon dioxide in water (pCO2) as the variable we want to predict, and a range of parameters, including water temperature, tidal stage, windspeed, and others as our predictors."
      ],
      "metadata": {
        "id": "K2Epw15XC_sI"
      }
    }
  ],
  "metadata": {
    "colab": {
      "provenance": [],
      "authorship_tag": "ABX9TyOL0wdWd77SlxBNOzGGCj4u",
      "include_colab_link": true
    },
    "kernelspec": {
      "display_name": "R",
      "name": "ir"
    },
    "language_info": {
      "name": "R"
    }
  },
  "nbformat": 4,
  "nbformat_minor": 0
}